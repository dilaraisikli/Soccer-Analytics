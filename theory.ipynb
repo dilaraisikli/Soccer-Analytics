{
 "cells": [
  {
   "cell_type": "markdown",
   "metadata": {},
   "source": [
    "# Theoretical Question\n",
    "\n",
    "\n"
   ]
  },
  {
   "cell_type": "markdown",
   "metadata": {},
   "source": [
    "How much running time does it take to execute splitSwap(a, 0, n)?\n"
   ]
  },
  {
   "cell_type": "markdown",
   "metadata": {},
   "source": [
    "T(N) = 2T(N/2) + O(N)"
   ]
  },
  {
   "cell_type": "markdown",
   "metadata": {},
   "source": [
    "What does this algorithm do? Is it optimal? Describe the mechanism of the algorithm in details."
   ]
  },
  {
   "cell_type": "markdown",
   "metadata": {},
   "source": [
    "The purpose of this function is to change the number of elements of the list in the opposite direction. And it does this together with the swapList function.\n",
    "If it is only one element in the list it is already sorted, return.\n",
    "Divide the list recursively into two halves until it can no more be divided.\n",
    "Sort the smaller lists into in the opposite direction.\n",
    "\n",
    "This function could be optimal/effective because it is useful for linked lists. But other hand, this function takes too much space and it can be slow random-access performance of a linked list.\n",
    "\n",
    "There is a example (list lenght is 8)"
   ]
  },
  {
   "cell_type": "code",
   "execution_count": 1,
   "metadata": {
    "scrolled": true
   },
   "outputs": [
    {
     "name": "stdout",
     "output_type": "stream",
     "text": [
      "[2, 1, 3, 4, 5, 6, 7, 8]\n",
      "[2, 1, 4, 3, 5, 6, 7, 8]\n",
      "[4, 1, 2, 3, 5, 6, 7, 8]\n",
      "[4, 3, 2, 1, 5, 6, 7, 8]\n",
      "[4, 3, 2, 1, 6, 5, 7, 8]\n",
      "[4, 3, 2, 1, 6, 5, 8, 7]\n",
      "[4, 3, 2, 1, 8, 5, 6, 7]\n",
      "[4, 3, 2, 1, 8, 7, 6, 5]\n",
      "[8, 3, 2, 1, 4, 7, 6, 5]\n",
      "[8, 7, 2, 1, 4, 3, 6, 5]\n",
      "[8, 7, 6, 1, 4, 3, 2, 5]\n",
      "[8, 7, 6, 5, 4, 3, 2, 1]\n"
     ]
    }
   ],
   "source": [
    "def splitSwap(a, l, n):\n",
    "  if n <= 1:\n",
    "    return\n",
    "  splitSwap(a, l, n//2)\n",
    "  splitSwap(a, l+ n //2, n//2)\n",
    "  swapList(a, l, n)\n",
    "  \n",
    "def swapList(a, l, n):\n",
    "  for i in range( n//2):\n",
    "    tmp = a[l + i]\n",
    "    a[l + i] = a[l + n//2 + i]\n",
    "    a[l + n//2 + i] = tmp\n",
    "    print(a)\n",
    "\n",
    "ExampleList = [1,2,3,4,5,6,7,8]\n",
    "\n",
    "splitSwap(ExampleList , 0 ,8)"
   ]
  },
  {
   "cell_type": "code",
   "execution_count": null,
   "metadata": {},
   "outputs": [],
   "source": []
  }
 ],
 "metadata": {
  "kernelspec": {
   "display_name": "Python 3",
   "language": "python",
   "name": "python3"
  },
  "language_info": {
   "codemirror_mode": {
    "name": "ipython",
    "version": 3
   },
   "file_extension": ".py",
   "mimetype": "text/x-python",
   "name": "python",
   "nbconvert_exporter": "python",
   "pygments_lexer": "ipython3",
   "version": "3.7.4"
  }
 },
 "nbformat": 4,
 "nbformat_minor": 2
}
